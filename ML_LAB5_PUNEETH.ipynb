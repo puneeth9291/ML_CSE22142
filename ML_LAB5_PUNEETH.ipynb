{
 "cells": [
  {
   "cell_type": "code",
   "execution_count": 3,
   "id": "b13e0fb5-bafc-40e8-96ee-218c74e087e3",
   "metadata": {},
   "outputs": [
    {
     "name": "stdout",
     "output_type": "stream",
     "text": [
      "1.0180347096884916 [ 0.55999778 -0.32905554]\n",
      "[3.26844051 2.64670654 3.61425051 3.12534547 3.32444029 3.4826283\n",
      " 3.14436478 2.73214031 2.82798877 2.57168746 3.00640279 3.08081852\n",
      " 2.88051699 3.13334673 3.09817633 2.900743   2.28127388 3.33606169\n",
      " 3.26844051 2.86089432 3.15477946 2.71312101 3.63734474 2.59131012\n",
      " 2.56127277 3.39145811 3.12534547 2.93998833 3.35734585 2.979837\n",
      " 3.12474211 3.1235354  2.94979966 3.31462896 2.75930945 2.78180032\n",
      " 3.246553   2.75930945 2.58783856 2.93364856 3.30134607 3.29153474\n",
      " 2.70330968 3.30134607 3.17953518 3.01621412 2.58783856 2.78180032\n",
      " 3.02134718 2.80489455 2.85802612 3.009271   2.74949812 3.10225124\n",
      " 3.0750821  3.05425273 3.11779899 2.54165011 2.821649   3.06179921\n",
      " 3.43643985 2.72927211 2.89727144 2.98270521 2.73274367 2.742555\n",
      " 2.84761143 2.58783856 3.03296857 3.04277991 3.87115518 2.89440323\n",
      " 2.88685675 3.43643985 2.8845919  2.79855478 3.41334562 2.89727144\n",
      " 2.77198899 2.94693145 3.05425273 3.26496895 2.6663292  3.06406406\n",
      " 2.99945966 2.82798877 3.42315696 2.86149768 3.18708166 2.67327233\n",
      " 3.29153474 3.05953436 3.20036455 2.64383834 2.70330968 3.22345878\n",
      " 3.71643874 3.29153474 2.84821479 3.14149657 3.32217544 3.67025029\n",
      " 3.058931   2.67614054 2.89440323 3.05832765 3.11025251 3.49243963\n",
      " 3.38044007 3.20383612 3.35734585 3.24534629 2.93364856 3.13334673\n",
      " 2.6501781  3.38044007 2.92036566 3.5484394  3.3902514  2.69983811]\n",
      "0.11583827914903641\n",
      "0.34035023012925436\n",
      "9.397456187834225\n",
      "0.4229704614495954\n",
      "[3.10511945 3.07568546 2.9168941  3.10044118 2.56474433 3.26964722\n",
      " 3.65062763 2.79221501 3.4826283  2.96942232 2.88746011 3.17953518\n",
      " 3.05259124 3.38044007 3.5484394  2.86783745 3.12127055 2.88746011\n",
      " 3.32277879 3.4693454  2.85802612 3.24534629 3.34753452 3.22225207\n",
      " 2.92730879 3.41334562 3.24881785 2.91055433 3.26617566 2.87070565]\n",
      "0.0501289743489207\n",
      "0.2238950074229452\n",
      "5.373489266132787\n",
      "0.6138975018054889\n",
      "Train metric 0.11583827914903641 is greater than Test metric 0.0501289743489207\n",
      "Train metric 0.34035023012925436 is greater than Test metric 0.2238950074229452\n",
      "Train metric 9.397456187834225 is greater than Test metric 5.373489266132787\n",
      "Test metric 0.6138975018054889 is greater than or equal to Train metric 0.4229704614495954\n"
     ]
    }
   ],
   "source": [
    "import matplotlib.pyplot as plt\n",
    "import pandas as pd\n",
    "import numpy as np\n",
    "\n",
    "from sklearn.model_selection import train_test_split\n",
    "from sklearn.linear_model import LinearRegression\n",
    "from sklearn.metrics import mean_squared_error, r2_score\n",
    "import matplotlib.pyplot as plt\n",
    "import seaborn as sns\n",
    "from seaborn import load_dataset\n",
    "\n",
    "\n",
    "iris = load_dataset('iris')\n",
    "iris.head()\n",
    "\n",
    "X =iris[['sepal_length','petal_length']]\n",
    "y =iris['sepal_width']\n",
    "\n",
    "X_train,X_test,y_train,y_test = train_test_split(X,y,test_size=0.2,random_state=23)\n",
    "\n",
    "lr = LinearRegression()\n",
    "result = lr.fit(X_train,y_train)\n",
    "print(result.intercept_,result.coef_)\n",
    "\n",
    "y_train_predict = lr.predict(X_train)\n",
    "print(y_train_predict)\n",
    "\n",
    "\n",
    "def calculate_mse(y_true, y_pred):\n",
    "\n",
    "    return np.mean((y_true - y_pred) ** 2)\n",
    "\n",
    "\n",
    "mse = calculate_mse(y_train,y_train_predict)\n",
    "print(mse)\n",
    "\n",
    "def calculate_rmse(y_true, y_pred):\n",
    "\n",
    "    return np.sqrt(np.mean((y_true - y_pred) ** 2))\n",
    "\n",
    "rmse = calculate_rmse(y_train,y_train_predict)\n",
    "print(rmse)\n",
    "\n",
    "def calculate_mape(y_true, y_pred):\n",
    "\n",
    "    return  np.mean(np.abs((y_true - y_pred) / y_true)) * 100\n",
    "\n",
    "\n",
    "mape = calculate_mape(y_train,y_train_predict)\n",
    "print(mape)\n",
    "\n",
    "\n",
    "def calculate_r2(y_true, y_pred):\n",
    "\n",
    "    y_mean = np.mean(y_true)\n",
    "    ss_res = np.sum((y_true - y_pred) ** 2)\n",
    "    ss_tot = np.sum((y_true - y_mean) ** 2)\n",
    "    return 1 - (ss_res / ss_tot)\n",
    "\n",
    "\n",
    "r2 = calculate_r2(y_train,y_train_predict)\n",
    "print(r2)\n",
    "\n",
    "\n",
    "y_test_predict = lr.predict(X_test)\n",
    "print(y_test_predict)\n",
    "\n",
    "mse_test = calculate_mse(y_test,y_test_predict)\n",
    "print(mse_test)\n",
    "\n",
    "rmse_test = calculate_rmse(y_test,y_test_predict)\n",
    "print(rmse_test)\n",
    "\n",
    "mape_test = calculate_mape(y_test,y_test_predict)\n",
    "print(mape_test)\n",
    "\n",
    "r2_test = calculate_r2(y_test,y_test_predict)\n",
    "print(r2_test)\n",
    "\n",
    "list_train = [mse, rmse, mape, r2]\n",
    "list_test = [mse_test, rmse_test, mape_test, r2_test]\n",
    "\n",
    "# Iterating through both lists simultaneously\n",
    "for train_metric, test_metric in zip(list_train, list_test):\n",
    "    if train_metric > test_metric:\n",
    "        print(f\"Train metric {train_metric} is greater than Test metric {test_metric}\")\n",
    "    else:\n",
    "        print(f\"Test metric {test_metric} is greater than or equal to Train metric {train_metric}\")\n"
   ]
  },
  {
   "cell_type": "code",
   "execution_count": 5,
   "id": "7e45f431-09dd-44cc-b384-2ffc7c9c3383",
   "metadata": {},
   "outputs": [
    {
     "name": "stdout",
     "output_type": "stream",
     "text": [
      "-1.3322676295501878e-15 [8.66881606e-17 1.38777878e-17 1.00000000e+00]\n",
      "[3.1 2.7 3.9 2.8 3.4 3.9 2.8 2.3 3.  3.3 3.2 3.4 2.4 3.2 2.3 2.5 2.5 3.8\n",
      " 3.1 2.8 2.8 3.4 4.2 2.6 3.  3.2 3.8 3.  3.6 3.2 3.  3.2 2.6 3.3 2.8 2.3\n",
      " 2.8 2.8 2.8 2.5 3.6 3.4 3.4 3.  3.4 3.  2.7 2.5 2.9 3.  2.7 2.2 3.  3.\n",
      " 2.9 3.2 2.8 2.8 3.  2.2 3.5 2.8 3.4 2.7 2.2 3.2 2.4 2.7 2.9 3.6 4.  3.3\n",
      " 2.5 4.1 3.2 3.  3.5 2.9 2.7 3.  3.  3.6 2.  3.  3.3 2.9 3.2 2.5 2.9 3.\n",
      " 3.  2.6 2.9 3.  2.9 3.1 4.4 3.5 3.  3.  3.1 3.5 3.  2.4 3.3 2.6 2.3 3.7\n",
      " 3.7 3.1 3.3 3.  2.7 3.4 2.6 3.4 3.  3.4 3.5 2.7]\n",
      "9.532069271420559e-32\n",
      "3.0874049412768256e-16\n",
      "7.619572185367928e-15\n",
      "1.0\n",
      "[3.1 3.2 2.7 3.1 2.5 3.1 3.8 3.1 3.4 2.9 2.8 3.1 3.  3.8 3.7 2.8 3.2 2.9\n",
      " 3.  3.4 3.2 3.  3.8 3.2 3.1 3.5 3.8 2.8 3.  2.5]\n",
      "8.545993139894295e-32\n",
      "2.923353064529547e-16\n",
      "6.743912200830566e-15\n",
      "1.0\n",
      "Train metric 9.532069271420559e-32 is greater than Test metric 8.545993139894295e-32\n",
      "Train metric 3.0874049412768256e-16 is greater than Test metric 2.923353064529547e-16\n",
      "Train metric 7.619572185367928e-15 is greater than Test metric 6.743912200830566e-15\n",
      "Test metric 1.0 is greater than or equal to Train metric 1.0\n"
     ]
    }
   ],
   "source": [
    "import matplotlib.pyplot as plt\n",
    "import pandas as pd\n",
    "import numpy as np\n",
    "\n",
    "from sklearn.model_selection import train_test_split\n",
    "from sklearn.linear_model import LinearRegression\n",
    "from sklearn.metrics import mean_squared_error, r2_score\n",
    "import matplotlib.pyplot as plt\n",
    "import seaborn as sns\n",
    "from seaborn import load_dataset\n",
    "\n",
    "\n",
    "iris = load_dataset('iris')\n",
    "iris.head()\n",
    "\n",
    "X =iris[['sepal_length','petal_length','sepal_width']]\n",
    "y =iris['sepal_width']\n",
    "\n",
    "X_train,X_test,y_train,y_test = train_test_split(X,y,test_size=0.2,random_state=23)\n",
    "\n",
    "lr = LinearRegression()\n",
    "result = lr.fit(X_train,y_train)\n",
    "print(result.intercept_,result.coef_)\n",
    "\n",
    "y_train_predict = lr.predict(X_train)\n",
    "print(y_train_predict)\n",
    "\n",
    "\n",
    "def calculate_mse(y_true, y_pred):\n",
    "\n",
    "    return np.mean((y_true - y_pred) ** 2)\n",
    "\n",
    "\n",
    "mse = calculate_mse(y_train,y_train_predict)\n",
    "print(mse)\n",
    "\n",
    "def calculate_rmse(y_true, y_pred):\n",
    "\n",
    "    return np.sqrt(np.mean((y_true - y_pred) ** 2))\n",
    "\n",
    "rmse = calculate_rmse(y_train,y_train_predict)\n",
    "print(rmse)\n",
    "\n",
    "def calculate_mape(y_true, y_pred):\n",
    "\n",
    "    return  np.mean(np.abs((y_true - y_pred) / y_true)) * 100\n",
    "\n",
    "\n",
    "mape = calculate_mape(y_train,y_train_predict)\n",
    "print(mape)\n",
    "\n",
    "\n",
    "def calculate_r2(y_true, y_pred):\n",
    "\n",
    "    y_mean = np.mean(y_true)\n",
    "    ss_res = np.sum((y_true - y_pred) ** 2)\n",
    "    ss_tot = np.sum((y_true - y_mean) ** 2)\n",
    "    return 1 - (ss_res / ss_tot)\n",
    "\n",
    "\n",
    "r2 = calculate_r2(y_train,y_train_predict)\n",
    "print(r2)\n",
    "\n",
    "\n",
    "y_test_predict = lr.predict(X_test)\n",
    "print(y_test_predict)\n",
    "\n",
    "mse_test = calculate_mse(y_test,y_test_predict)\n",
    "print(mse_test)\n",
    "\n",
    "rmse_test = calculate_rmse(y_test,y_test_predict)\n",
    "print(rmse_test)\n",
    "\n",
    "mape_test = calculate_mape(y_test,y_test_predict)\n",
    "print(mape_test)\n",
    "\n",
    "r2_test = calculate_r2(y_test,y_test_predict)\n",
    "print(r2_test)\n",
    "\n",
    "list_train = [mse, rmse, mape, r2]\n",
    "list_test = [mse_test, rmse_test, mape_test, r2_test]\n",
    "\n",
    "# Iterating through both lists simultaneously\n",
    "for train_metric, test_metric in zip(list_train, list_test):\n",
    "    if train_metric > test_metric:\n",
    "        print(f\"Train metric {train_metric} is greater than Test metric {test_metric}\")\n",
    "    else:\n",
    "        print(f\"Test metric {test_metric} is greater than or equal to Train metric {train_metric}\")"
   ]
  },
  {
   "cell_type": "code",
   "execution_count": 6,
   "id": "4586d752-3b07-4605-a3d3-c54c8e366b39",
   "metadata": {},
   "outputs": [
    {
     "data": {
      "text/plain": [
       "<matplotlib.collections.PathCollection at 0x17b068be0d0>"
      ]
     },
     "execution_count": 6,
     "metadata": {},
     "output_type": "execute_result"
    },
    {
     "data": {
      "image/png": "[encoded data removed]",
      "text/plain": [
       "<Figure size 640x480 with 1 Axes>"
      ]
     },
     "metadata": {},
     "output_type": "display_data"
    }
   ],
   "source": [
    "import pandas as pd\n",
    "import numpy as np\n",
    "import matplotlib.pyplot as plt\n",
    "from sklearn.datasets import make_blobs\n",
    "\n",
    "\n",
    "X,y= make_blobs(n_samples = 1000,n_features = 2, centers=3,random_state=23)\n",
    "\n",
    "from sklearn.model_selection import train_test_split\n",
    "X_train,X_test,y_train,y_test = train_test_split(X,y,test_size=0.2,random_state=23)\n",
    "\n",
    "plt.scatter(X_train[:,0],X_train[:,1],c=y_train)"
   ]
  },
  {
   "cell_type": "code",
   "execution_count": 8,
   "id": "f85858ed-0b27-40e2-95d9-57a0ae5aeec8",
   "metadata": {},
   "outputs": [
    {
     "name": "stderr",
     "output_type": "stream",
     "text": [
      "C:\\Users\\91967\\OneDrive\\Documents\\Downloads\\Lib\\site-packages\\sklearn\\cluster\\_kmeans.py:870: FutureWarning: The default value of `n_init` will change from 10 to 'auto' in 1.4. Set the value of `n_init` explicitly to suppress the warning\n",
      "  warnings.warn(\n",
      "C:\\Users\\91967\\OneDrive\\Documents\\Downloads\\Lib\\site-packages\\sklearn\\cluster\\_kmeans.py:1382: UserWarning: KMeans is known to have a memory leak on Windows with MKL, when there are less chunks than available threads. You can avoid it by setting the environment variable OMP_NUM_THREADS=4.\n",
      "  warnings.warn(\n"
     ]
    },
    {
     "ename": "AttributeError",
     "evalue": "'numpy.ndarray' object has no attribute 'iloc'",
     "output_type": "error",
     "traceback": [
      "\u001b[1;31m---------------------------------------------------------------------------\u001b[0m",
      "\u001b[1;31mAttributeError\u001b[0m                            Traceback (most recent call last)",
      "Cell \u001b[1;32mIn[8], line 8\u001b[0m\n\u001b[0;32m      4\u001b[0m fit \u001b[38;5;241m=\u001b[39m kmeans\u001b[38;5;241m.\u001b[39mfit(X_train)\n\u001b[0;32m      6\u001b[0m y_labels \u001b[38;5;241m=\u001b[39m fit\u001b[38;5;241m.\u001b[39mpredict(X_train)\n\u001b[1;32m----> 8\u001b[0m plt\u001b[38;5;241m.\u001b[39mscatter(X_train\u001b[38;5;241m.\u001b[39miloc[:,\u001b[38;5;241m0\u001b[39m],X_train\u001b[38;5;241m.\u001b[39miloc[:,\u001b[38;5;241m1\u001b[39m],c\u001b[38;5;241m=\u001b[39my_labels)\n",
      "\u001b[1;31mAttributeError\u001b[0m: 'numpy.ndarray' object has no attribute 'iloc'"
     ]
    }
   ],
   "source": [
    "from sklearn.cluster import KMeans\n",
    "import matplotlib.pyplot as plt\n",
    "kmeans = KMeans(n_clusters=3,init='k-means++')\n",
    "fit = kmeans.fit(X_train)\n",
    "\n",
    "y_labels = fit.predict(X_train)\n",
    "\n",
    "plt.scatter(X_train.iloc[:,0],X_train.iloc[:,1],c=y_labels)"
   ]
  },
  {
   "cell_type": "code",
   "execution_count": 9,
   "id": "80dd7c9e-1653-4eda-a926-6759b3626e68",
   "metadata": {},
   "outputs": [
    {
     "name": "stderr",
     "output_type": "stream",
     "text": [
      "C:\\Users\\91967\\OneDrive\\Documents\\Downloads\\Lib\\site-packages\\sklearn\\cluster\\_kmeans.py:1382: UserWarning: KMeans is known to have a memory leak on Windows with MKL, when there are less chunks than available threads. You can avoid it by setting the environment variable OMP_NUM_THREADS=4.\n",
      "  warnings.warn(\n"
     ]
    },
    {
     "data": {
      "text/plain": [
       "2604.13457404335"
      ]
     },
     "execution_count": 9,
     "metadata": {},
     "output_type": "execute_result"
    }
   ],
   "source": [
    "from sklearn.metrics import silhouette_score,calinski_harabasz_score,davies_bouldin_score\n",
    "\n",
    "def find_kmeans(k,X_train):\n",
    "    kmeans = KMeans(n_clusters=k,random_state=0,n_init=\"auto\").fit(X_train)\n",
    "    return kmeans\n",
    "\n",
    "\n",
    "def score(X_train,kmeans):\n",
    "    sil_score = silhouette_score(X_train,kmeans.labels_)\n",
    "    db_score = davies_bouldin_score(X_train,kmeans.labels_)\n",
    "    ch_score = calinski_harabasz_score(X_train,kmeans.labels_)\n",
    "    return sil_score,db_score,ch_score\n",
    "kmeans = find_kmeans(2,X_train)\n",
    "kmeans.labels_\n",
    "kmeans.cluster_centers_\n",
    "\n",
    "s_score,db_score,ch_score = score(X_train,kmeans)\n",
    "s_score\n",
    "db_score\n",
    "ch_score"
   ]
  },
  {
   "cell_type": "code",
   "execution_count": 10,
   "id": "86c87120-dea9-4652-862c-f3651167a94f",
   "metadata": {},
   "outputs": [
    {
     "name": "stderr",
     "output_type": "stream",
     "text": [
      "C:\\Users\\91967\\OneDrive\\Documents\\Downloads\\Lib\\site-packages\\sklearn\\cluster\\_kmeans.py:1382: UserWarning: KMeans is known to have a memory leak on Windows with MKL, when there are less chunks than available threads. You can avoid it by setting the environment variable OMP_NUM_THREADS=4.\n",
      "  warnings.warn(\n"
     ]
    },
    {
     "name": "stdout",
     "output_type": "stream",
     "text": [
      "Silhouette Score for k=2: 0.7235282106963524  ,Db score =0.40111134607763455 ,chscore=2604.13457404335\n"
     ]
    },
    {
     "name": "stderr",
     "output_type": "stream",
     "text": [
      "C:\\Users\\91967\\OneDrive\\Documents\\Downloads\\Lib\\site-packages\\sklearn\\cluster\\_kmeans.py:1382: UserWarning: KMeans is known to have a memory leak on Windows with MKL, when there are less chunks than available threads. You can avoid it by setting the environment variable OMP_NUM_THREADS=4.\n",
      "  warnings.warn(\n",
      "C:\\Users\\91967\\OneDrive\\Documents\\Downloads\\Lib\\site-packages\\sklearn\\cluster\\_kmeans.py:1382: UserWarning: KMeans is known to have a memory leak on Windows with MKL, when there are less chunks than available threads. You can avoid it by setting the environment variable OMP_NUM_THREADS=4.\n",
      "  warnings.warn(\n"
     ]
    },
    {
     "name": "stdout",
     "output_type": "stream",
     "text": [
      "Silhouette Score for k=3: 0.8036346102542831  ,Db score =0.27517308315900574 ,chscore=9749.007647540164\n",
      "Silhouette Score for k=4: 0.6426068642280424  ,Db score =0.7554770012670502 ,chscore=7256.250368686376\n"
     ]
    },
    {
     "name": "stderr",
     "output_type": "stream",
     "text": [
      "C:\\Users\\91967\\OneDrive\\Documents\\Downloads\\Lib\\site-packages\\sklearn\\cluster\\_kmeans.py:1382: UserWarning: KMeans is known to have a memory leak on Windows with MKL, when there are less chunks than available threads. You can avoid it by setting the environment variable OMP_NUM_THREADS=4.\n",
      "  warnings.warn(\n",
      "C:\\Users\\91967\\OneDrive\\Documents\\Downloads\\Lib\\site-packages\\sklearn\\cluster\\_kmeans.py:1382: UserWarning: KMeans is known to have a memory leak on Windows with MKL, when there are less chunks than available threads. You can avoid it by setting the environment variable OMP_NUM_THREADS=4.\n",
      "  warnings.warn(\n"
     ]
    },
    {
     "name": "stdout",
     "output_type": "stream",
     "text": [
      "Silhouette Score for k=5: 0.4707100587036335  ,Db score =1.0201136683316778 ,chscore=6380.6164404765195\n",
      "Silhouette Score for k=6: 0.31911694036061994  ,Db score =1.2233088060551225 ,chscore=5910.396601276784\n"
     ]
    },
    {
     "name": "stderr",
     "output_type": "stream",
     "text": [
      "C:\\Users\\91967\\OneDrive\\Documents\\Downloads\\Lib\\site-packages\\sklearn\\cluster\\_kmeans.py:1382: UserWarning: KMeans is known to have a memory leak on Windows with MKL, when there are less chunks than available threads. You can avoid it by setting the environment variable OMP_NUM_THREADS=4.\n",
      "  warnings.warn(\n",
      "C:\\Users\\91967\\OneDrive\\Documents\\Downloads\\Lib\\site-packages\\sklearn\\cluster\\_kmeans.py:1382: UserWarning: KMeans is known to have a memory leak on Windows with MKL, when there are less chunks than available threads. You can avoid it by setting the environment variable OMP_NUM_THREADS=4.\n",
      "  warnings.warn(\n"
     ]
    },
    {
     "name": "stdout",
     "output_type": "stream",
     "text": [
      "Silhouette Score for k=7: 0.32230226861016265  ,Db score =1.1163222492883427 ,chscore=5559.982873904837\n",
      "Silhouette Score for k=8: 0.32820558280966494  ,Db score =1.0120694096193517 ,chscore=5423.726827303677\n"
     ]
    },
    {
     "name": "stderr",
     "output_type": "stream",
     "text": [
      "C:\\Users\\91967\\OneDrive\\Documents\\Downloads\\Lib\\site-packages\\sklearn\\cluster\\_kmeans.py:1382: UserWarning: KMeans is known to have a memory leak on Windows with MKL, when there are less chunks than available threads. You can avoid it by setting the environment variable OMP_NUM_THREADS=4.\n",
      "  warnings.warn(\n",
      "C:\\Users\\91967\\OneDrive\\Documents\\Downloads\\Lib\\site-packages\\sklearn\\cluster\\_kmeans.py:1382: UserWarning: KMeans is known to have a memory leak on Windows with MKL, when there are less chunks than available threads. You can avoid it by setting the environment variable OMP_NUM_THREADS=4.\n",
      "  warnings.warn(\n"
     ]
    },
    {
     "name": "stdout",
     "output_type": "stream",
     "text": [
      "Silhouette Score for k=9: 0.33370567187449707  ,Db score =0.9464406977409993 ,chscore=5433.960759029316\n",
      "Silhouette Score for k=10: 0.3369198532575803  ,Db score =0.9290595402125842 ,chscore=5273.969660754487\n"
     ]
    }
   ],
   "source": [
    "for k in range(2,11):\n",
    "  kmeans=find_kmeans(k,X_train)\n",
    "  s_score,db_score,ch_score = score(X_train,kmeans)\n",
    "  print(f\"Silhouette Score for k={k}: {s_score}  ,Db score ={db_score} ,chscore={ch_score}\")\n"
   ]
  },
  {
   "cell_type": "code",
   "execution_count": 11,
   "id": "0a3460af-df86-4b64-a5fc-cfde7b9111b3",
   "metadata": {},
   "outputs": [
    {
     "name": "stderr",
     "output_type": "stream",
     "text": [
      "C:\\Users\\91967\\OneDrive\\Documents\\Downloads\\Lib\\site-packages\\sklearn\\cluster\\_kmeans.py:870: FutureWarning: The default value of `n_init` will change from 10 to 'auto' in 1.4. Set the value of `n_init` explicitly to suppress the warning\n",
      "  warnings.warn(\n",
      "C:\\Users\\91967\\OneDrive\\Documents\\Downloads\\Lib\\site-packages\\sklearn\\cluster\\_kmeans.py:1382: UserWarning: KMeans is known to have a memory leak on Windows with MKL, when there are less chunks than available threads. You can avoid it by setting the environment variable OMP_NUM_THREADS=4.\n",
      "  warnings.warn(\n",
      "C:\\Users\\91967\\OneDrive\\Documents\\Downloads\\Lib\\site-packages\\sklearn\\cluster\\_kmeans.py:870: FutureWarning: The default value of `n_init` will change from 10 to 'auto' in 1.4. Set the value of `n_init` explicitly to suppress the warning\n",
      "  warnings.warn(\n",
      "C:\\Users\\91967\\OneDrive\\Documents\\Downloads\\Lib\\site-packages\\sklearn\\cluster\\_kmeans.py:1382: UserWarning: KMeans is known to have a memory leak on Windows with MKL, when there are less chunks than available threads. You can avoid it by setting the environment variable OMP_NUM_THREADS=4.\n",
      "  warnings.warn(\n",
      "C:\\Users\\91967\\OneDrive\\Documents\\Downloads\\Lib\\site-packages\\sklearn\\cluster\\_kmeans.py:870: FutureWarning: The default value of `n_init` will change from 10 to 'auto' in 1.4. Set the value of `n_init` explicitly to suppress the warning\n",
      "  warnings.warn(\n",
      "C:\\Users\\91967\\OneDrive\\Documents\\Downloads\\Lib\\site-packages\\sklearn\\cluster\\_kmeans.py:1382: UserWarning: KMeans is known to have a memory leak on Windows with MKL, when there are less chunks than available threads. You can avoid it by setting the environment variable OMP_NUM_THREADS=4.\n",
      "  warnings.warn(\n",
      "C:\\Users\\91967\\OneDrive\\Documents\\Downloads\\Lib\\site-packages\\sklearn\\cluster\\_kmeans.py:870: FutureWarning: The default value of `n_init` will change from 10 to 'auto' in 1.4. Set the value of `n_init` explicitly to suppress the warning\n",
      "  warnings.warn(\n",
      "C:\\Users\\91967\\OneDrive\\Documents\\Downloads\\Lib\\site-packages\\sklearn\\cluster\\_kmeans.py:1382: UserWarning: KMeans is known to have a memory leak on Windows with MKL, when there are less chunks than available threads. You can avoid it by setting the environment variable OMP_NUM_THREADS=4.\n",
      "  warnings.warn(\n",
      "C:\\Users\\91967\\OneDrive\\Documents\\Downloads\\Lib\\site-packages\\sklearn\\cluster\\_kmeans.py:870: FutureWarning: The default value of `n_init` will change from 10 to 'auto' in 1.4. Set the value of `n_init` explicitly to suppress the warning\n",
      "  warnings.warn(\n",
      "C:\\Users\\91967\\OneDrive\\Documents\\Downloads\\Lib\\site-packages\\sklearn\\cluster\\_kmeans.py:1382: UserWarning: KMeans is known to have a memory leak on Windows with MKL, when there are less chunks than available threads. You can avoid it by setting the environment variable OMP_NUM_THREADS=4.\n",
      "  warnings.warn(\n",
      "C:\\Users\\91967\\OneDrive\\Documents\\Downloads\\Lib\\site-packages\\sklearn\\cluster\\_kmeans.py:870: FutureWarning: The default value of `n_init` will change from 10 to 'auto' in 1.4. Set the value of `n_init` explicitly to suppress the warning\n",
      "  warnings.warn(\n",
      "C:\\Users\\91967\\OneDrive\\Documents\\Downloads\\Lib\\site-packages\\sklearn\\cluster\\_kmeans.py:1382: UserWarning: KMeans is known to have a memory leak on Windows with MKL, when there are less chunks than available threads. You can avoid it by setting the environment variable OMP_NUM_THREADS=4.\n",
      "  warnings.warn(\n",
      "C:\\Users\\91967\\OneDrive\\Documents\\Downloads\\Lib\\site-packages\\sklearn\\cluster\\_kmeans.py:870: FutureWarning: The default value of `n_init` will change from 10 to 'auto' in 1.4. Set the value of `n_init` explicitly to suppress the warning\n",
      "  warnings.warn(\n",
      "C:\\Users\\91967\\OneDrive\\Documents\\Downloads\\Lib\\site-packages\\sklearn\\cluster\\_kmeans.py:1382: UserWarning: KMeans is known to have a memory leak on Windows with MKL, when there are less chunks than available threads. You can avoid it by setting the environment variable OMP_NUM_THREADS=4.\n",
      "  warnings.warn(\n",
      "C:\\Users\\91967\\OneDrive\\Documents\\Downloads\\Lib\\site-packages\\sklearn\\cluster\\_kmeans.py:870: FutureWarning: The default value of `n_init` will change from 10 to 'auto' in 1.4. Set the value of `n_init` explicitly to suppress the warning\n",
      "  warnings.warn(\n",
      "C:\\Users\\91967\\OneDrive\\Documents\\Downloads\\Lib\\site-packages\\sklearn\\cluster\\_kmeans.py:1382: UserWarning: KMeans is known to have a memory leak on Windows with MKL, when there are less chunks than available threads. You can avoid it by setting the environment variable OMP_NUM_THREADS=4.\n",
      "  warnings.warn(\n",
      "C:\\Users\\91967\\OneDrive\\Documents\\Downloads\\Lib\\site-packages\\sklearn\\cluster\\_kmeans.py:870: FutureWarning: The default value of `n_init` will change from 10 to 'auto' in 1.4. Set the value of `n_init` explicitly to suppress the warning\n",
      "  warnings.warn(\n",
      "C:\\Users\\91967\\OneDrive\\Documents\\Downloads\\Lib\\site-packages\\sklearn\\cluster\\_kmeans.py:1382: UserWarning: KMeans is known to have a memory leak on Windows with MKL, when there are less chunks than available threads. You can avoid it by setting the environment variable OMP_NUM_THREADS=4.\n",
      "  warnings.warn(\n",
      "C:\\Users\\91967\\OneDrive\\Documents\\Downloads\\Lib\\site-packages\\sklearn\\cluster\\_kmeans.py:870: FutureWarning: The default value of `n_init` will change from 10 to 'auto' in 1.4. Set the value of `n_init` explicitly to suppress the warning\n",
      "  warnings.warn(\n",
      "C:\\Users\\91967\\OneDrive\\Documents\\Downloads\\Lib\\site-packages\\sklearn\\cluster\\_kmeans.py:1382: UserWarning: KMeans is known to have a memory leak on Windows with MKL, when there are less chunks than available threads. You can avoid it by setting the environment variable OMP_NUM_THREADS=4.\n",
      "  warnings.warn(\n"
     ]
    },
    {
     "data": {
      "image/png": "[encoded data removed]",
      "text/plain": [
       "<Figure size 640x480 with 1 Axes>"
      ]
     },
     "metadata": {},
     "output_type": "display_data"
    }
   ],
   "source": [
    "from sklearn.cluster import KMeans\n",
    "\n",
    "\n",
    "wcss =[]\n",
    "\n",
    "for k in range(1,11):\n",
    "  kmeans=KMeans(n_clusters =k,init='k-means++')\n",
    "  kmeans.fit(X_train)\n",
    "  wcss.append(kmeans.inertia_)\n",
    "\n",
    "plt.plot(range(1,11),wcss)\n",
    "plt.title('The Elbow Method')\n",
    "plt.xlabel('Number of clusters')\n",
    "plt.ylabel('WCSS')\n",
    "plt.show()"
   ]
  },
  {
   "cell_type": "code",
   "execution_count": null,
   "id": "0b4bde38-07bd-4381-9927-baf6d798311a",
   "metadata": {},
   "outputs": [],
   "source": []
  }
 ],
 "metadata": {
  "kernelspec": {
   "display_name": "Python 3 (ipykernel)",
   "language": "python",
   "name": "python3"
  },
  "language_info": {
   "codemirror_mode": {
    "name": "ipython",
    "version": 3
   },
   "file_extension": ".py",
   "mimetype": "text/x-python",
   "name": "python",
   "nbconvert_exporter": "python",
   "pygments_lexer": "ipython3",
   "version": "3.11.7"
  }
 },
 "nbformat": 4,
 "nbformat_minor": 5
}
